{
 "cells": [
  {
   "cell_type": "markdown",
   "id": "2d05a397",
   "metadata": {},
   "source": [
    "# Parse 100K Customer Data"
   ]
  },
  {
   "cell_type": "code",
   "execution_count": null,
   "id": "83611a96",
   "metadata": {},
   "outputs": [
    {
     "data": {
      "text/plain": [
       "3.7416573867739413"
      ]
     },
     "execution_count": 1,
     "metadata": {},
     "output_type": "execute_result"
    }
   ],
   "source": []
  },
  {
   "cell_type": "markdown",
   "id": "9f772009",
   "metadata": {},
   "source": [
    "# Parse 2M Customer Data while keeping memory low"
   ]
  },
  {
   "cell_type": "code",
   "execution_count": null,
   "id": "41414b00",
   "metadata": {},
   "outputs": [],
   "source": []
  },
  {
   "cell_type": "markdown",
   "id": "dbcb88aa",
   "metadata": {},
   "source": [
    "# How it's different splitting the small files and large files"
   ]
  },
  {
   "cell_type": "markdown",
   "id": "c24f452d",
   "metadata": {},
   "source": []
  }
 ],
 "metadata": {
  "kernelspec": {
   "display_name": "Python 3",
   "language": "python",
   "name": "python3"
  },
  "language_info": {
   "codemirror_mode": {
    "name": "ipython",
    "version": 3
   },
   "file_extension": ".py",
   "mimetype": "text/x-python",
   "name": "python",
   "nbconvert_exporter": "python",
   "pygments_lexer": "ipython3",
   "version": "3.11.11"
  }
 },
 "nbformat": 4,
 "nbformat_minor": 5
}
